{
 "cells": [
  {
   "cell_type": "raw",
   "id": "fae15635-f1cb-4ef0-83e8-975ee9ebeb7a",
   "metadata": {},
   "source": [
    "---\n",
    "title: \"Picasso and Monet Painting Classifier\"\n",
    "author: \"Harish\"\n",
    "date: \"2024-03-27\"\n",
    "categories: [Deep Learning, fastai]\n",
    "---"
   ]
  },
  {
   "cell_type": "markdown",
   "id": "ec0055dd-f5e5-4976-ba4d-6366e80f371b",
   "metadata": {},
   "source": [
    "<figure>\n",
    "    <img src=\"../../projects/paintingclf.jpg\"\n",
    "        alt=\"thumbnail\"\n",
    "        class=\"post-thumbnail\">\n",
    "    <figcaption>Created by Microsoft Designer</figcaption>\n",
    "</figure>"
   ]
  },
  {
   "cell_type": "markdown",
   "id": "bc3967fc-58dd-4113-89ea-d21ff9916d19",
   "metadata": {},
   "source": [
    "In this post, let's build an image classifier to classify paintings made by Picasso and Monet. Let's start by installing the required `python` packages."
   ]
  },
  {
   "cell_type": "markdown",
   "id": "ce0f1add-65cd-415b-9324-8e06e3c632f4",
   "metadata": {},
   "source": [
    "## Installing packages"
   ]
  },
  {
   "cell_type": "markdown",
   "id": "ea4dbcf3-81e3-45c1-9757-67de6ec179c4",
   "metadata": {},
   "source": [
    "---\n",
    "code-annotations: hover\n",
    "---\n",
    "\n",
    "```bash\n",
    "!pip install -Uqq fastai # <1>\n",
    "!pip install -Uqq duckduckgo_search # <2>\n",
    "```\n",
    "\n",
    "1. Installs `fastai` library to build and train deep learning models. It also provides utility methods to download images.\n",
    "2. Installs `duckduckgo_search` library to search for images programatically."
   ]
  },
  {
   "cell_type": "markdown",
   "id": "d0881512-016b-4c77-9335-950e9e56eee5",
   "metadata": {},
   "source": [
    "## Import packages"
   ]
  },
  {
   "cell_type": "code",
   "execution_count": 2,
   "id": "ca92a176-5aeb-4874-b141-819b7939dadd",
   "metadata": {},
   "outputs": [
    {
     "ename": "ModuleNotFoundError",
     "evalue": "No module named 'duckduckgo_search'",
     "output_type": "error",
     "traceback": [
      "\u001b[1;31m---------------------------------------------------------------------------\u001b[0m",
      "\u001b[1;31mModuleNotFoundError\u001b[0m                       Traceback (most recent call last)",
      "Cell \u001b[1;32mIn[2], line 1\u001b[0m\n\u001b[1;32m----> 1\u001b[0m \u001b[38;5;28;01mfrom\u001b[39;00m \u001b[38;5;21;01mduckduckgo_search\u001b[39;00m \u001b[38;5;28;01mimport\u001b[39;00m DDGS\n\u001b[0;32m      2\u001b[0m \u001b[38;5;66;03m# from fastcore.all import *\u001b[39;00m\n\u001b[0;32m      3\u001b[0m \u001b[38;5;28;01mfrom\u001b[39;00m \u001b[38;5;21;01mfastdownload\u001b[39;00m \u001b[38;5;28;01mimport\u001b[39;00m download_url\n",
      "\u001b[1;31mModuleNotFoundError\u001b[0m: No module named 'duckduckgo_search'"
     ]
    }
   ],
   "source": [
    "from duckduckgo_search import DDGS\n",
    "# from fastcore.all import *\n",
    "from fastdownload import download_url\n",
    "from time import sleep\n",
    "from fastai.vision.all import *"
   ]
  },
  {
   "cell_type": "code",
   "execution_count": null,
   "id": "7c1968fb-0412-4105-a4dd-8184855a3675",
   "metadata": {},
   "outputs": [],
   "source": []
  }
 ],
 "metadata": {
  "kernelspec": {
   "display_name": "Python 3 (ipykernel)",
   "language": "python",
   "name": "python3"
  },
  "language_info": {
   "codemirror_mode": {
    "name": "ipython",
    "version": 3
   },
   "file_extension": ".py",
   "mimetype": "text/x-python",
   "name": "python",
   "nbconvert_exporter": "python",
   "pygments_lexer": "ipython3",
   "version": "3.12.0"
  }
 },
 "nbformat": 4,
 "nbformat_minor": 5
}
